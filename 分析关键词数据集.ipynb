{
 "cells": [
  {
   "cell_type": "code",
   "execution_count": 19,
   "id": "c7c55826",
   "metadata": {},
   "outputs": [],
   "source": [
    "import os\n",
    "import collections\n",
    "import json\n",
    "\n",
    "import pandas as pd\n",
    "import tqdm\n",
    "\n",
    "import util"
   ]
  },
  {
   "cell_type": "code",
   "execution_count": 20,
   "id": "aa073c63",
   "metadata": {},
   "outputs": [
    {
     "name": "stdout",
     "output_type": "stream",
     "text": [
      "数据集元素个数： 578523\n",
      "  kjcg_id     cata1 cata2       keywords\n",
      "0  282644  TQ177.37   NaN  磷石膏粉;建筑磷;生产工艺\n",
      "中图分类总数： 20885\n",
      "  index                    name\n",
      "0     A  马克思主义、列宁主义、毛泽东思想、邓小平理论\n"
     ]
    }
   ],
   "source": [
    "# workdir\n",
    "workdir = r'd:/workdir/ztcata-lab'\n",
    "src = os.path.join(workdir, 'dataset.csv')\n",
    "ztcata_path = './ztcata/中图分类_full.xlsx'\n",
    "\n",
    "# 读取数据\n",
    "df = util.read_csv(src)\n",
    "print('数据集元素个数：', len(df))\n",
    "print(df.head(1))\n",
    "\n",
    "df_zt = util.read_excel(ztcata_path)\n",
    "print('中图分类总数：', len(df_zt))\n",
    "print(df_zt.head(1))"
   ]
  },
  {
   "cell_type": "code",
   "execution_count": 21,
   "id": "fa0c68d1",
   "metadata": {},
   "outputs": [
    {
     "name": "stdout",
     "output_type": "stream",
     "text": [
      "kjcg_id空值数量： 0\n",
      "cata1空值数量： 0\n",
      "cata2空值数量： 452462\n",
      "keywords空值数量： 0\n"
     ]
    }
   ],
   "source": [
    "# 基本的检查\n",
    "def basic_check(df):\n",
    "    # kjcg_id空值数量\n",
    "    null_num = len(df[df['kjcg_id'].isna()])\n",
    "    print('kjcg_id空值数量：', null_num)\n",
    "    \n",
    "    # cata1空值数量\n",
    "    null_num = len(df[df['cata1'].isna()])\n",
    "    print('cata1空值数量：', null_num)\n",
    "    \n",
    "    # cata2空值数量\n",
    "    null_num = len(df[df['cata2'].isna()])\n",
    "    print('cata2空值数量：', null_num)\n",
    "    \n",
    "    # keywords空值数量\n",
    "    null_num = len(df[df['keywords'].isna()])\n",
    "    print('keywords空值数量：', null_num)\n",
    "    \n",
    "\n",
    "basic_check(df)"
   ]
  },
  {
   "cell_type": "code",
   "execution_count": 22,
   "id": "de6b554b",
   "metadata": {},
   "outputs": [
    {
     "name": "stderr",
     "output_type": "stream",
     "text": [
      "  2%|█▎                                                                          | 408/23080 [00:00<00:05, 4051.03it/s]"
     ]
    },
    {
     "name": "stdout",
     "output_type": "stream",
     "text": [
      "出现的分类总数： 23080\n",
      "zt分类总数： 20885\n"
     ]
    },
    {
     "name": "stderr",
     "output_type": "stream",
     "text": [
      "100%|██████████████████████████████████████████████████████████████████████████| 23080/23080 [00:06<00:00, 3753.10it/s]"
     ]
    },
    {
     "name": "stdout",
     "output_type": "stream",
     "text": [
      "未出现的分类总数： 13334\n"
     ]
    },
    {
     "name": "stderr",
     "output_type": "stream",
     "text": [
      "\n"
     ]
    }
   ],
   "source": [
    "# 出现的分类目录数量与手中ztcata表格的对比\n",
    "cata_uniqs = df['cata1'].unique().tolist()\n",
    "print('出现的分类总数：', len(cata_uniqs))  \n",
    "\n",
    "# 中图分类总数22885\n",
    "ztcatas = df_zt['index'].tolist()\n",
    "print('zt分类总数：', len(ztcatas)) \n",
    "\n",
    "# 不包含在分类中的数量\n",
    "unpresents = [i for i in tqdm.tqdm(cata_uniqs) if i not in ztcatas]\n",
    "print('未出现的分类总数：', len(unpresents))\n",
    "\n",
    "# 总结：我手中的中图分类非常之不全面"
   ]
  },
  {
   "cell_type": "code",
   "execution_count": 24,
   "id": "6fb0f148",
   "metadata": {},
   "outputs": [
    {
     "name": "stdout",
     "output_type": "stream",
     "text": [
      "[('TP319', 7278), ('R285.5', 3363), ('X703', 3218), ('TP391.41', 3136), ('S513', 2640)]\n"
     ]
    }
   ],
   "source": [
    "# 分类号出现频次\n",
    "counter = collections.Counter(df['cata1'].values.tolist())\n",
    "print(counter.most_common(5))\n",
    "\n",
    "# 保存中间文件，查看分布\n",
    "middle_path = os.path.join(workdir, 'middle.xlsx')\n",
    "dfm = pd.DataFrame(counter.most_common(), columns=['code', '成果数量'])\n",
    "util.save_excel(middle_path, dfm)"
   ]
  },
  {
   "cell_type": "code",
   "execution_count": 26,
   "id": "dbcd53d4",
   "metadata": {},
   "outputs": [],
   "source": [
    "# 按code收集keyword\n",
    "# 暂时只收集cata1的数据\n",
    "r = dict()\n",
    "for code, g in df.groupby(by='cata1'):\n",
    "    inner = {'code':code, 'number':len(g), 'keywords':';'.join(g['keywords'].values.tolist())}\n",
    "    r[code] = inner\n",
    "\n",
    "# 保存\n",
    "result_path = os.path.join(workdir, 'dataset_group_by_code.json')\n",
    "with open(result_path, 'w', encoding='utf-8') as f:\n",
    "    json.dump(r, f, ensure_ascii=False)"
   ]
  },
  {
   "cell_type": "markdown",
   "id": "e14b21f9",
   "metadata": {},
   "source": [
    "以下为测试："
   ]
  },
  {
   "cell_type": "code",
   "execution_count": null,
   "id": "dd2a2ed1",
   "metadata": {},
   "outputs": [],
   "source": []
  }
 ],
 "metadata": {
  "kernelspec": {
   "display_name": "Python 3",
   "language": "python",
   "name": "python3"
  },
  "language_info": {
   "codemirror_mode": {
    "name": "ipython",
    "version": 3
   },
   "file_extension": ".py",
   "mimetype": "text/x-python",
   "name": "python",
   "nbconvert_exporter": "python",
   "pygments_lexer": "ipython3",
   "version": "3.6.13"
  }
 },
 "nbformat": 4,
 "nbformat_minor": 5
}
