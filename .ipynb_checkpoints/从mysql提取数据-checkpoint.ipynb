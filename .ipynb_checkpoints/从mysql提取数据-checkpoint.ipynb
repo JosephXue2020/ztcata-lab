{
 "cells": [
  {
   "cell_type": "code",
   "execution_count": 1,
   "id": "1dfff250",
   "metadata": {},
   "outputs": [],
   "source": [
    "import os\n",
    "\n",
    "import pymysql\n",
    "import pandas as pd\n",
    "import tqdm"
   ]
  },
  {
   "cell_type": "code",
   "execution_count": 8,
   "id": "47cc3159",
   "metadata": {},
   "outputs": [
    {
     "name": "stdout",
     "output_type": "stream",
     "text": [
      "<class 'pymysql.cursors.Cursor'>\n"
     ]
    }
   ],
   "source": [
    "# 初始化数据库\n",
    "host = 'localhost'\n",
    "port = 3306\n",
    "username = 'root'\n",
    "password = 'dabaike123'\n",
    "dbname = 'kjcg_ten'\n",
    "\n",
    "db = pymysql.connect(host=host, port=port, user=username, password=password, database=dbname)\n",
    "cursor = db.cursor()\n",
    "print(type(cursor))"
   ]
  },
  {
   "cell_type": "code",
   "execution_count": 18,
   "id": "6ed2cd20",
   "metadata": {},
   "outputs": [
    {
     "name": "stdout",
     "output_type": "stream",
     "text": [
      "  kjcg_id     cata1     cata2                   keywords\n",
      "0  282644  TQ177.37      None              磷石膏粉;建筑磷;生产工艺\n",
      "1  282645     TP273  TF124.53       超高温高;真空烧结炉;高温实现;温度测量\n",
      "2  282646    S967.3      None  深水;网箱养殖;水深;抗风浪网箱;海水;研究与应用\n",
      "3  282647     TK403      None                 液体活塞;活塞热气机\n",
      "4  282648     TN873     TP274      3D视觉芯片;全平台兼容;高分辨率光学测量\n"
     ]
    }
   ],
   "source": [
    "# 获取相关数据\n",
    "sql = 'select KJCG_ID, ITEM_12, ITEM_12_1, ITEM_14 from kjcg_all_qk_h1'\n",
    "cursor.execute(sql)\n",
    "data = cursor.fetchall()\n",
    "df = pd.DataFrame(data, columns=['kjcg_id', 'cata1', 'cata2', 'keywords'])\n",
    "print(df.head())"
   ]
  },
  {
   "cell_type": "code",
   "execution_count": 19,
   "id": "2008ef11",
   "metadata": {},
   "outputs": [],
   "source": [
    "# 保存数据\n",
    "workdir = r'D:\\workdir\\ztcata-lab'\n",
    "outpath = os.path.join(workdir, 'dataset.csv')\n",
    "\n",
    "df.to_csv(outpath, index=False, encoding='utf-8')"
   ]
  },
  {
   "cell_type": "markdown",
   "id": "b61dad67",
   "metadata": {},
   "source": [
    "以下为测试："
   ]
  },
  {
   "cell_type": "code",
   "execution_count": null,
   "id": "87a2d6b7",
   "metadata": {},
   "outputs": [],
   "source": []
  }
 ],
 "metadata": {
  "kernelspec": {
   "display_name": "Python 3",
   "language": "python",
   "name": "python3"
  },
  "language_info": {
   "codemirror_mode": {
    "name": "ipython",
    "version": 3
   },
   "file_extension": ".py",
   "mimetype": "text/x-python",
   "name": "python",
   "nbconvert_exporter": "python",
   "pygments_lexer": "ipython3",
   "version": "3.6.13"
  }
 },
 "nbformat": 4,
 "nbformat_minor": 5
}
