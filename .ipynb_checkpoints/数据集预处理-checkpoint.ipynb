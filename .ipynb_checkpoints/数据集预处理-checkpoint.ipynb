{
 "cells": [
  {
   "cell_type": "code",
   "execution_count": 9,
   "id": "b1018f9b",
   "metadata": {},
   "outputs": [
    {
     "data": {
      "text/plain": [
       "<module 'ztcata' from 'D:\\\\JupyterProject\\\\jupyter_notebook\\\\ztcata-lab\\\\ztcata\\\\__init__.py'>"
      ]
     },
     "execution_count": 9,
     "metadata": {},
     "output_type": "execute_result"
    }
   ],
   "source": [
    "import os\n",
    "import json\n",
    "import importlib\n",
    "\n",
    "import ztcata\n",
    "import util\n",
    "\n",
    "importlib.reload(ztcata)"
   ]
  },
  {
   "cell_type": "code",
   "execution_count": 4,
   "id": "84c61fc7",
   "metadata": {},
   "outputs": [],
   "source": [
    "# workdir\n",
    "workdir = r'd:/workdir/ztcata-lab'\n",
    "src = os.path.join(workdir, 'dataset_group_by_code.json')\n",
    "\n",
    "# 读取数据\n",
    "with open(src, 'r', encoding='utf-8') as f:\n",
    "    data = json.load(f)"
   ]
  },
  {
   "cell_type": "code",
   "execution_count": 7,
   "id": "64a85b8b",
   "metadata": {},
   "outputs": [
    {
     "name": "stdout",
     "output_type": "stream",
     "text": [
      "F\n"
     ]
    }
   ],
   "source": [
    "# 构建树\n",
    "tree = ztcata.tree.generate_tree(data)\n",
    "print(tree.children[5].path)"
   ]
  },
  {
   "cell_type": "code",
   "execution_count": null,
   "id": "4105fa85",
   "metadata": {},
   "outputs": [],
   "source": []
  }
 ],
 "metadata": {
  "kernelspec": {
   "display_name": "Python 3",
   "language": "python",
   "name": "python3"
  },
  "language_info": {
   "codemirror_mode": {
    "name": "ipython",
    "version": 3
   },
   "file_extension": ".py",
   "mimetype": "text/x-python",
   "name": "python",
   "nbconvert_exporter": "python",
   "pygments_lexer": "ipython3",
   "version": "3.6.13"
  }
 },
 "nbformat": 4,
 "nbformat_minor": 5
}
