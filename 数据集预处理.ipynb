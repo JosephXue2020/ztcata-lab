{
 "cells": [
  {
   "cell_type": "code",
   "execution_count": 1,
   "id": "7c16f6d6",
   "metadata": {},
   "outputs": [
    {
     "data": {
      "text/plain": [
       "<module 'ztcata' from 'D:\\\\JupyterProject\\\\jupyter_notebook\\\\ztcata-lab\\\\ztcata\\\\__init__.py'>"
      ]
     },
     "execution_count": 1,
     "metadata": {},
     "output_type": "execute_result"
    }
   ],
   "source": [
    "import os\n",
    "import json\n",
    "import importlib\n",
    "\n",
    "import pandas as pd\n",
    "\n",
    "import ztcata\n",
    "import util\n",
    "\n",
    "importlib.reload(ztcata)"
   ]
  },
  {
   "cell_type": "code",
   "execution_count": 2,
   "id": "3d3bd0bf",
   "metadata": {},
   "outputs": [],
   "source": [
    "# workdir\n",
    "workdir = r'd:/workdir/ztcata-lab'\n",
    "src = os.path.join(workdir, 'dataset_group_by_code.json')\n",
    "\n",
    "# 读取数据\n",
    "with open(src, 'r', encoding='utf-8') as f:\n",
    "    data = json.load(f)"
   ]
  },
  {
   "cell_type": "code",
   "execution_count": 3,
   "id": "2d01db7f",
   "metadata": {},
   "outputs": [
    {
     "name": "stdout",
     "output_type": "stream",
     "text": [
      "A\n",
      "{'code': 'A8', 'number': 1, 'keywords': '中国共产党;三代领导集体;社会主义;政治文明', 'prop_codes': []}\n"
     ]
    }
   ],
   "source": [
    "# 构建树\n",
    "tree = ztcata.tree.generate_tree(data)\n",
    "print(tree.children[0].path)\n",
    "print(tree.children[0].children[0].value.__dict__)"
   ]
  },
  {
   "cell_type": "code",
   "execution_count": 4,
   "id": "6e941e18",
   "metadata": {},
   "outputs": [],
   "source": [
    "# 保存临时结果\n",
    "# 核对数量，查看逻辑是否正确\n",
    "temp_path = os.path.join(workdir, 'temp.xlsx')\n",
    "r = [item.__dict__ for item in tree.traverse_post_order()]\n",
    "util.save_excel(temp_path, pd.DataFrame(r))"
   ]
  },
  {
   "cell_type": "code",
   "execution_count": 4,
   "id": "59b9464d",
   "metadata": {},
   "outputs": [
    {
     "name": "stdout",
     "output_type": "stream",
     "text": [
      "False\n",
      "False\n",
      "False\n",
      "False\n",
      "False\n",
      "False\n",
      "False\n",
      "False\n",
      "False\n",
      "False\n",
      "False\n",
      "False\n",
      "False\n",
      "False\n",
      "False\n",
      "False\n",
      "False\n",
      "False\n",
      "False\n",
      "False\n",
      "False\n",
      "False\n"
     ]
    }
   ],
   "source": [
    "# 取一定阈值，收缩树\n",
    "temp_path = os.path.join(workdir, 'temp.xlsx')\n",
    "\n",
    "threshold = 10\n",
    "tree.contract(threshold)\n",
    "\n",
    "r = [item.__dict__ for item in tree.traverse_post_order()]\n",
    "util.save_excel(temp_path, pd.DataFrame(r))"
   ]
  },
  {
   "cell_type": "code",
   "execution_count": null,
   "id": "ed6971d4",
   "metadata": {},
   "outputs": [],
   "source": []
  },
  {
   "cell_type": "markdown",
   "id": "fcaa8ea4",
   "metadata": {},
   "source": [
    "以下为测试："
   ]
  },
  {
   "cell_type": "code",
   "execution_count": 5,
   "id": "18673af7",
   "metadata": {},
   "outputs": [
    {
     "name": "stdout",
     "output_type": "stream",
     "text": [
      "[]\n"
     ]
    }
   ],
   "source": [
    "print(tree.children)"
   ]
  },
  {
   "cell_type": "code",
   "execution_count": 13,
   "id": "f9423f83",
   "metadata": {},
   "outputs": [
    {
     "data": {
      "text/plain": [
       "[]"
      ]
     },
     "execution_count": 13,
     "metadata": {},
     "output_type": "execute_result"
    }
   ],
   "source": [
    "tree.prop_lt"
   ]
  },
  {
   "cell_type": "code",
   "execution_count": null,
   "id": "aec887d4",
   "metadata": {},
   "outputs": [],
   "source": []
  },
  {
   "cell_type": "code",
   "execution_count": null,
   "id": "f5ab084b",
   "metadata": {},
   "outputs": [],
   "source": []
  }
 ],
 "metadata": {
  "kernelspec": {
   "display_name": "Python 3",
   "language": "python",
   "name": "python3"
  },
  "language_info": {
   "codemirror_mode": {
    "name": "ipython",
    "version": 3
   },
   "file_extension": ".py",
   "mimetype": "text/x-python",
   "name": "python",
   "nbconvert_exporter": "python",
   "pygments_lexer": "ipython3",
   "version": "3.6.13"
  }
 },
 "nbformat": 4,
 "nbformat_minor": 5
}
