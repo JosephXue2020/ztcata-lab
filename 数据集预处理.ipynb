{
 "cells": [
  {
   "cell_type": "code",
   "execution_count": 9,
   "id": "9f41ad2e",
   "metadata": {},
   "outputs": [
    {
     "data": {
      "text/plain": [
       "<module 'ztcata' from 'D:\\\\JupyterProject\\\\jupyter_notebook\\\\ztcata-lab\\\\ztcata\\\\__init__.py'>"
      ]
     },
     "execution_count": 9,
     "metadata": {},
     "output_type": "execute_result"
    }
   ],
   "source": [
    "import os\n",
    "import json\n",
    "import importlib\n",
    "\n",
    "import ztcata\n",
    "import util\n",
    "\n",
    "importlib.reload(ztcata)"
   ]
  },
  {
   "cell_type": "code",
   "execution_count": 18,
   "id": "d14ffaa5",
   "metadata": {},
   "outputs": [],
   "source": [
    "# workdir\n",
    "workdir = r'd:/workdir/ztcata-lab'\n",
    "src = os.path.join(workdir, 'dataset_group_by_code.json')\n",
    "\n",
    "# 读取数据\n",
    "with open(src, 'r', encoding='utf-8') as f:\n",
    "    data = json.load(f)"
   ]
  },
  {
   "cell_type": "code",
   "execution_count": 19,
   "id": "4ccaf450",
   "metadata": {},
   "outputs": [
    {
     "name": "stdout",
     "output_type": "stream",
     "text": [
      "A\n",
      "{'code': 'A8', 'number': 1, 'keywords': '中国共产党;三代领导集体;社会主义;政治文明'}\n"
     ]
    }
   ],
   "source": [
    "# 构建树\n",
    "tree = ztcata.tree.generate_tree(data)\n",
    "print(tree.children[0].path)\n",
    "print(tree.children[0].children[0].value)"
   ]
  },
  {
   "cell_type": "code",
   "execution_count": null,
   "id": "ca8039a9",
   "metadata": {},
   "outputs": [],
   "source": []
  }
 ],
 "metadata": {
  "kernelspec": {
   "display_name": "Python 3",
   "language": "python",
   "name": "python3"
  },
  "language_info": {
   "codemirror_mode": {
    "name": "ipython",
    "version": 3
   },
   "file_extension": ".py",
   "mimetype": "text/x-python",
   "name": "python",
   "nbconvert_exporter": "python",
   "pygments_lexer": "ipython3",
   "version": "3.6.13"
  }
 },
 "nbformat": 4,
 "nbformat_minor": 5
}
